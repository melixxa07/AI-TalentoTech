{
 "cells": [
  {
   "cell_type": "markdown",
   "metadata": {},
   "source": [
    "# SNScrape Tutorial"
   ]
  },
  {
   "cell_type": "code",
   "execution_count": 1,
   "metadata": {},
   "outputs": [],
   "source": [
    "import pandas as pd\n",
    "from tqdm.notebook import tqdm\n",
    "import snscrape.modules.twitter as sntwitter"
   ]
  },
  {
   "cell_type": "markdown",
   "metadata": {},
   "source": [
    "## Pulling and Example Tweet"
   ]
  },
  {
   "cell_type": "code",
   "execution_count": null,
   "metadata": {},
   "outputs": [],
   "source": [
    "#scraper = sntwitter.TwitterSearchScraper('@metrodemedellin')"
   ]
  },
  {
   "cell_type": "code",
   "execution_count": null,
   "metadata": {},
   "outputs": [],
   "source": []
  },
  {
   "cell_type": "markdown",
   "metadata": {},
   "source": []
  },
  {
   "cell_type": "code",
   "execution_count": 23,
   "metadata": {},
   "outputs": [],
   "source": [
    "from ntscraper import Nitter"
   ]
  },
  {
   "cell_type": "code",
   "execution_count": 24,
   "metadata": {},
   "outputs": [
    {
     "name": "stderr",
     "output_type": "stream",
     "text": [
      "Testing instances: 100%|██████████| 6/6 [00:04<00:00,  1.43it/s]\n"
     ]
    }
   ],
   "source": [
    "scraper = Nitter(log_level=1, skip_instance_check=False)"
   ]
  },
  {
   "cell_type": "code",
   "execution_count": 25,
   "metadata": {},
   "outputs": [
    {
     "name": "stdout",
     "output_type": "stream",
     "text": [
      "27-Feb-25 18:58:39 - No instance specified, using random instance https://nitter.privacydev.net\n",
      "27-Feb-25 18:58:46 - Current stats for metromedellin: 10 tweets, 0 threads...\n"
     ]
    }
   ],
   "source": [
    "tweets = scraper.get_tweets('metromedellin', mode='hashtag', number=10)"
   ]
  },
  {
   "cell_type": "code",
   "execution_count": 29,
   "metadata": {},
   "outputs": [
    {
     "name": "stdout",
     "output_type": "stream",
     "text": [
      "{'tweets': [{'link': 'https://twitter.com/ggaleanoguerra/status/1892701908822876485#m', 'text': '¿Qué tal mi nueva playlist? https://open.spotify.com/playlist/4BwFdTneEyedpJmVIVhbSm?si=yoEeFH1ATEWDKfk7-ZYM9w #Medellín #MetroMedellin #Spotify #Playlist', 'user': {'name': 'Gabriel Galeano G.', 'username': '@ggaleanoguerra', 'profile_id': '1840057889974558720', 'avatar': 'https://pbs.twimg.com/profile_images/1840057889974558720/ecybwtq3_bigger.jpg'}, 'date': 'Feb 20, 2025 · 10:24 PM UTC', 'is-retweet': False, 'is-pinned': False, 'external-link': '', 'replying-to': [], 'quoted-post': {}, 'stats': {'comments': 0, 'retweets': 0, 'quotes': 0, 'likes': 0}, 'pictures': ['https://pbs.twimg.com/media/GkQ6WzrWYAAulIW.jpg'], 'videos': [], 'gifs': []}, {'link': 'https://twitter.com/zuluaga_sergio/status/1891448016998957464#m', 'text': 'El #MetroMedellín se proyecta con su expansión con seis proyectos claves que #TransformaránMovilidad en los próximos 30 años. #Conectividad, #MovilidadMedellín #Medellin #Antioquia https://search.app/bu3GTeEtgsXvzFDi6', 'user': {'name': 'sergio zuluaga', 'username': '@zuluaga_sergio', 'profile_id': '1756330601039179779', 'avatar': 'https://pbs.twimg.com/profile_images/1756330601039179779/om0OOZ51_bigger.jpg'}, 'date': 'Feb 17, 2025 · 11:22 AM UTC', 'is-retweet': False, 'is-pinned': False, 'external-link': '', 'replying-to': [], 'quoted-post': {}, 'stats': {'comments': 0, 'retweets': 0, 'quotes': 0, 'likes': 0}, 'pictures': [], 'videos': [], 'gifs': []}, {'link': 'https://twitter.com/BoligrafoParker/status/1890373530748928433#m', 'text': 'Cuando el dorado pase de moda me avisan por favor... #marcadolaser #colombia #medellin #metromedellin #metrola80 #colombianas #regalos #detalle #especial #super #parker #hermoso #lujoso', 'user': {'name': 'Boligrafos Personalizados', 'username': '@BoligrafoParker', 'profile_id': '1637945705582018566', 'avatar': 'https://pbs.twimg.com/profile_images/1637945705582018566/PAHggieP_bigger.jpg'}, 'date': 'Feb 14, 2025 · 12:12 PM UTC', 'is-retweet': False, 'is-pinned': False, 'external-link': '', 'replying-to': [], 'quoted-post': {}, 'stats': {'comments': 0, 'retweets': 0, 'quotes': 0, 'likes': 0}, 'pictures': ['https://pbs.twimg.com/media/Gjv0K7EWoAAxKQN.jpg'], 'videos': [], 'gifs': []}, {'link': 'https://twitter.com/JuanKarlosVeneg/status/1890012288117358725#m', 'text': '#MetroMedellin @UnCaricaturista', 'user': {'name': '🇨🇴JuanVenegas 🇨🇴', 'username': '@JuanKarlosVeneg', 'profile_id': '1894755831704408064', 'avatar': 'https://pbs.twimg.com/profile_images/1894755831704408064/R4BC1leK_bigger.jpg'}, 'date': 'Feb 13, 2025 · 12:16 PM UTC', 'is-retweet': False, 'is-pinned': False, 'external-link': '', 'replying-to': [], 'quoted-post': {'link': 'https://twitter.com/UnCaricaturista/status/1890010221759922356#m', 'text': 'Los invito a escuchar \"Lo mejor de ser TREINTAÑERO\" mi caricanción a propósito de los 30 años que hoy cumple METRO🌐, la marca a la que pertenece @PublimetroCol, mi casa.', 'user': {'name': '𝕏-tian', 'username': '@UnCaricaturista', 'profile_id': '1741867788824707072', 'avatar': 'https://pbs.twimg.com/profile_images/1741867788824707072/UjGT8YuA_mini.jpg'}, 'date': 'Feb 13, 2025 · 12:08 PM UTC', 'pictures': [], 'videos': ['https://video.twimg.com/ext_tw_video/1890010185373999104/pu/vid/avc1/720x1280/-aghbxeqPH9aanHx.mp4?tag=12'], 'gifs': []}, 'stats': {'comments': 0, 'retweets': 0, 'quotes': 0, 'likes': 0}, 'pictures': [], 'videos': [], 'gifs': []}, {'link': 'https://twitter.com/ryukfm/status/1886486343343092006#m', 'text': '@metrodemedellin #metromedellin #civica buenas tardes, hay problemas con la app cívica? Llegó 3 semanas que trato de entrar y cada vez que entro me pide que me registre', 'user': {'name': 'juanito', 'username': '@ryukfm', 'profile_id': '995711446599249920', 'avatar': 'https://pbs.twimg.com/profile_images/995711446599249920/fto9rF1S_bigger.jpg'}, 'date': 'Feb 3, 2025 · 6:46 PM UTC', 'is-retweet': False, 'is-pinned': False, 'external-link': '', 'replying-to': [], 'quoted-post': {}, 'stats': {'comments': 1, 'retweets': 0, 'quotes': 0, 'likes': 0}, 'pictures': [], 'videos': [], 'gifs': []}, {'link': 'https://twitter.com/VilladaCar48773/status/1884995335287615989#m', 'text': 'Frente a las afirmaciones realizadas por la veeduría “Todos por Medellín” el pasado 28 de enero de 2025, el Distrito de Medellín y el Metro de Medellín se permiten informar lo siguiente:  Para esta y más noticias de interés, visita elextramedios.com #metromedellin', 'user': {'name': 'Carlos villada Duque', 'username': '@VilladaCar48773', 'profile_id': '1685649663037198337', 'avatar': 'https://pbs.twimg.com/profile_images/1685649663037198337/UBCX40DH_bigger.png'}, 'date': 'Jan 30, 2025 · 4:01 PM UTC', 'is-retweet': False, 'is-pinned': False, 'external-link': '', 'replying-to': [], 'quoted-post': {}, 'stats': {'comments': 0, 'retweets': 0, 'quotes': 0, 'likes': 0}, 'pictures': ['https://pbs.twimg.com/media/GijZRK_XYAATXbU.jpg'], 'videos': [], 'gifs': []}, {'link': 'https://twitter.com/Loquepasaenbuca/status/1878087947548766395#m', 'text': '🚨 ATENCIÓN: El Metro de #Medellín se encuentra colapsado debido a que un hombre se quita la vida al lanzarse a las vías. En este momento se espera la llegada de unidades de criminalística para realizar el levantamiento. 🕊️ #MetroMedellín #Tránsito', 'user': {'name': 'loquepasaencolombia', 'username': '@Loquepasaenbuca', 'profile_id': '1789099326158880768', 'avatar': 'https://pbs.twimg.com/profile_images/1789099326158880768/QP7zAleG_bigger.jpg'}, 'date': 'Jan 11, 2025 · 2:33 PM UTC', 'is-retweet': False, 'is-pinned': False, 'external-link': '', 'replying-to': [], 'quoted-post': {}, 'stats': {'comments': 1, 'retweets': 5, 'quotes': 0, 'likes': 16}, 'pictures': [], 'videos': ['https://video.twimg.com/ext_tw_video/1878087858436603904/pu/vid/avc1/472x850/d0rliVLNPT7E1IF1.mp4?tag=12'], 'gifs': []}, {'link': 'https://twitter.com/kiss_or_death_/status/1877560841823715594#m', 'text': 'Que falta de #CulturaMetro @metrodemedellin #Medellin #metromedellin', 'user': {'name': 'stop', 'username': '@kiss_or_death_', 'profile_id': '1504717169233387540', 'avatar': 'https://pbs.twimg.com/profile_images/1504717169233387540/Tc9D6ba9_bigger.jpg'}, 'date': 'Jan 10, 2025 · 3:39 AM UTC', 'is-retweet': False, 'is-pinned': False, 'external-link': '', 'replying-to': [], 'quoted-post': {}, 'stats': {'comments': 0, 'retweets': 0, 'quotes': 0, 'likes': 1}, 'pictures': ['https://pbs.twimg.com/media/Gg5vosKWIAAfKJV.jpg'], 'videos': [], 'gifs': []}, {'link': 'https://twitter.com/ArroyaveAsocia2/status/1849855960808030621#m', 'text': 'Conoce el daño emergente en operación publica de expropiación, de la mano de nuestro abogado Andrés Arroyave.  ¿Tienes algun inconveniente con este tema? Nosotros te ayudamos  #abogados #abogadosmedellin #metrodela80 #morametrodela80 #metromedellin #Expropiaciones', 'user': {'name': 'Arroyave&Asociados', 'username': '@ArroyaveAsocia2', 'profile_id': '1890101523884998656', 'avatar': 'https://pbs.twimg.com/profile_images/1890101523884998656/LEaY7uAF_bigger.jpg'}, 'date': 'Oct 25, 2024 · 4:50 PM UTC', 'is-retweet': False, 'is-pinned': False, 'external-link': '', 'replying-to': [], 'quoted-post': {}, 'stats': {'comments': 0, 'retweets': 2, 'quotes': 0, 'likes': 2}, 'pictures': [], 'videos': ['https://video.twimg.com/ext_tw_video/1849855793027571712/pu/vid/avc1/720x1280/CT_vZDpxaqC7z0S0.mp4?tag=12'], 'gifs': []}, {'link': 'https://twitter.com/RouOneEltra/status/1848759900572127408#m', 'text': 'Venga, @FicoGutierrez, ya sin hablar de política, ¿quién es el man qué le dijo “ojalá no se te dañe el metro” de manera tan macabra y premonitoria?  #Medellin #MetroMedellin', 'user': {'name': 'OnePreacher', 'username': '@RouOneEltra', 'profile_id': '1858515745665142784', 'avatar': 'https://pbs.twimg.com/profile_images/1858515745665142784/Q79W7q0R_bigger.jpg'}, 'date': 'Oct 22, 2024 · 4:14 PM UTC', 'is-retweet': False, 'is-pinned': False, 'external-link': '', 'replying-to': [], 'quoted-post': {'link': 'https://twitter.com/QuinteroCalle/status/1847235667052392570#m', 'text': 'Un ciudadano le pregunta a ‘Fico’ que si “en lugar de andar de fiesta en un bar de Bogotá, no debería estar en Medellín para que no se vuelen narcos, pedófilos y no se le caiga el Metrocable”', 'user': {'name': 'Daniel Quintero 🇨🇴', 'username': '@QuinteroCalle', 'profile_id': '1212249018979487744', 'avatar': 'https://pbs.twimg.com/profile_images/1212249018979487744/oFcBecaY_mini.jpg'}, 'date': 'Oct 18, 2024 · 11:17 AM UTC', 'pictures': [], 'videos': ['https://video.twimg.com/amplify_video/1847235579001376768/vid/avc1/720x1280/DXSDTUu8p5Ln9w87.mp4?tag=16'], 'gifs': []}, 'stats': {'comments': 0, 'retweets': 0, 'quotes': 0, 'likes': 0}, 'pictures': [], 'videos': [], 'gifs': []}], 'threads': []}\n"
     ]
    }
   ],
   "source": [
    "print(tweets)"
   ]
  },
  {
   "cell_type": "code",
   "execution_count": 32,
   "metadata": {},
   "outputs": [
    {
     "data": {
      "text/plain": [
       "dict_keys(['tweets', 'threads'])"
      ]
     },
     "execution_count": 32,
     "metadata": {},
     "output_type": "execute_result"
    }
   ],
   "source": [
    "tweets.keys()"
   ]
  },
  {
   "cell_type": "code",
   "execution_count": null,
   "metadata": {},
   "outputs": [],
   "source": []
  },
  {
   "cell_type": "code",
   "execution_count": null,
   "metadata": {},
   "outputs": [],
   "source": []
  },
  {
   "cell_type": "code",
   "execution_count": null,
   "metadata": {},
   "outputs": [],
   "source": []
  },
  {
   "cell_type": "code",
   "execution_count": null,
   "metadata": {},
   "outputs": [],
   "source": []
  },
  {
   "cell_type": "markdown",
   "metadata": {},
   "source": [
    "### Scraping with multiple terms"
   ]
  },
  {
   "cell_type": "code",
   "execution_count": 28,
   "metadata": {},
   "outputs": [
    {
     "name": "stdout",
     "output_type": "stream",
     "text": [
      "27-Feb-25 19:01:34 - No instance specified, using random instance https://nitter.privacydev.net\n",
      "27-Feb-25 19:01:42 - Fetching error: Instance has been rate limited.Use another instance or try again later.\n"
     ]
    }
   ],
   "source": [
    "terms = ['@metromedellin']\n",
    "results = scraper.get_tweets(terms, mode='term')"
   ]
  },
  {
   "cell_type": "code",
   "execution_count": null,
   "metadata": {},
   "outputs": [],
   "source": []
  },
  {
   "cell_type": "markdown",
   "metadata": {},
   "source": [
    "(llegar OR llego OR voy OR ruta) (@metromedellin) lang:es"
   ]
  },
  {
   "cell_type": "markdown",
   "metadata": {},
   "source": []
  }
 ],
 "metadata": {
  "kernelspec": {
   "display_name": "webscraping",
   "language": "python",
   "name": "python3"
  },
  "language_info": {
   "codemirror_mode": {
    "name": "ipython",
    "version": 3
   },
   "file_extension": ".py",
   "mimetype": "text/x-python",
   "name": "python",
   "nbconvert_exporter": "python",
   "pygments_lexer": "ipython3",
   "version": "3.9.21"
  }
 },
 "nbformat": 4,
 "nbformat_minor": 2
}
